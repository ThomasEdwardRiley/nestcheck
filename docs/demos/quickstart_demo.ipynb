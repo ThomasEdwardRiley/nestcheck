{
 "cells": [
  {
   "cell_type": "markdown",
   "metadata": {},
   "source": [
    "<div class=\"alert alert-info\">\n",
    "**Note:**\n",
    "\n",
    "You can download this demo as a Jupyter notebook [here](https://github.com/ejhigson/nestcheck/blob/master/docs/demos/quickstart_demo.ipynb) and run it interactively yourself. The PolyChord nested sampling run data it uses can be downloaded at [https://github.com/ejhigson/nestcheck_demo_data](https://github.com/ejhigson/nestcheck_demo_data) (this also contains runs using a few different likelihoods).\n",
    "</div>\n",
    "\n",
    "# Quickstart demo\n",
    "\n",
    "This is a brief demonstration covering loading nested sampling run data, performing calculations, running error analysis and diagnostic tests, and making plots. The diagnostic tests and plots are described in:\n",
    "\n",
    "- \"Diagnostic Tests for Nested Sampling Calculations\" ([Higson et al. 2018](https://arxiv.org/abs/1804.06406));\n",
    "- \"Sampling Errors in Nested Sampling Parameter Estimation\" ([Higson et al. 2017](https://doi.org/10.1214/17-BA1075)).\n",
    "\n",
    "For detailed explanations of the diagnostic tests and plots, see the papers.\n",
    "\n",
    "More information about `nestcheck`'s code and and functionality can be found in the [documentation](http://nestcheck.readthedocs.io), and you can see more examples of its use [here](https://github.com/ejhigson/nestcheck/tree/master/examples). The code to make all the results and diagrams in the diagnostic tests paper ([Higson et al. 2018](https://arxiv.org/abs/1804.06406)) is available in the [diagnostics_paper_code.ipynb](https://github.com/ejhigson/nestcheck/blob/master/examples/diagnostics_paper_code.ipynb) notebook, and provides examples using a variety of likelihoods.\n",
    "\n",
    "\n"
   ]
  },
  {
   "cell_type": "markdown",
   "metadata": {},
   "source": [
    "## Loading nested sampling runs\n",
    "\n",
    "For this demo we will use some PolyChord nested sampling runs with a simple 2-dimensional Gaussian likelihood\n",
    "\n",
    "\\begin{equation}\n",
    "\\mathcal{L}(\\theta) = \\frac{1}{2\\pi \\sigma^2} \\exp\\left(\\frac{{|\\theta|}^2}{2 \\sigma^2}\\right),\n",
    "\\end{equation}\n",
    "\n",
    "with $\\sigma=0.5$ and a uniform prior on each parameter in $[-10, 10]$.\n",
    "\n",
    "A PolyChord run can be loaded as follows:"
   ]
  },
  {
   "cell_type": "code",
   "execution_count": 1,
   "metadata": {},
   "outputs": [],
   "source": [
    "import nestcheck.data_processing\n",
    "\n",
    "base_dir = 'polychord_chains'  # directory containing run (PolyChord's 'base_dir' setting)\n",
    "file_root = 'gaussian_2d_100nlive_5nrepeats_1'  # output files' name root (PolyChord's 'file_root' setting)\n",
    "run = nestcheck.data_processing.process_polychord_run(file_root, base_dir)"
   ]
  },
  {
   "cell_type": "markdown",
   "metadata": {},
   "source": [
    "For more information about the dictionary format and keys `nestcheck` uses to store nested sampling runs, see the [API documentation](http://nestcheck.readthedocs.io/en/latest/api.html).\n",
    "\n",
    "\n",
    "`nestcheck`'s `data_processing` module currently has functions for loading nested sampling data from [MultiNest](https://ccpforge.cse.rl.ac.uk/gf/project/multinest/) and [PolyChord](https://ccpforge.cse.rl.ac.uk/gf/project/polychord/), and you can add your own method to load data from other sources.\n",
    "\n",
    "Data from multiple runs can be loaded and processed together (with optional parallelisation):"
   ]
  },
  {
   "cell_type": "code",
   "execution_count": 2,
   "metadata": {},
   "outputs": [
    {
     "data": {
      "application/vnd.jupyter.widget-view+json": {
       "model_id": "4b9d70cb27244c3abfd39d90c890d248",
       "version_major": 2,
       "version_minor": 0
      },
      "text/html": [
       "<p>Failed to display Jupyter Widget of type <code>HBox</code>.</p>\n",
       "<p>\n",
       "  If you're reading this message in the Jupyter Notebook or JupyterLab Notebook, it may mean\n",
       "  that the widgets JavaScript is still loading. If this message persists, it\n",
       "  likely means that the widgets JavaScript library is either not installed or\n",
       "  not enabled. See the <a href=\"https://ipywidgets.readthedocs.io/en/stable/user_install.html\">Jupyter\n",
       "  Widgets Documentation</a> for setup instructions.\n",
       "</p>\n",
       "<p>\n",
       "  If you're reading this message in another frontend (for example, a static\n",
       "  rendering on GitHub or <a href=\"https://nbviewer.jupyter.org/\">NBViewer</a>),\n",
       "  it may mean that your frontend doesn't currently support widgets.\n",
       "</p>\n"
      ],
      "text/plain": [
       "HBox(children=(IntProgress(value=0, max=10), HTML(value='')))"
      ]
     },
     "metadata": {},
     "output_type": "display_data"
    },
    {
     "name": "stdout",
     "output_type": "stream",
     "text": [
      "\r"
     ]
    }
   ],
   "source": [
    "file_roots = ['gaussian_2d_100nlive_5nrepeats_' + str(i) for i in range(1, 11)]\n",
    "run_list = nestcheck.data_processing.batch_process_data(\n",
    "    file_roots, base_dir=base_dir, parallel=True,\n",
    "    process_func=nestcheck.data_processing.process_polychord_run)"
   ]
  },
  {
   "cell_type": "markdown",
   "metadata": {},
   "source": [
    "## Evidence and parameter estimation calculations from runs\n",
    "\n",
    "Nested sampling runs in the `nestcheck` format can be easily used to make posterior inferences (see `estimators.py` for more example functions)"
   ]
  },
  {
   "cell_type": "code",
   "execution_count": 3,
   "metadata": {},
   "outputs": [
    {
     "name": "stdout",
     "output_type": "stream",
     "text": [
      "The log evidence estimate using the first run is -5.941675954408192\n",
      "The estimateed the mean of the first parameter is 0.003249535192363336\n"
     ]
    }
   ],
   "source": [
    "import nestcheck.estimators as e\n",
    "\n",
    "print('The log evidence estimate using the first run is',\n",
    "      e.logz(run_list[0]))\n",
    "print('The estimateed the mean of the first parameter is',\n",
    "      e.param_mean(run_list[0], param_ind=0))"
   ]
  },
  {
   "cell_type": "markdown",
   "metadata": {},
   "source": [
    "You can get a pandas DataFrame of results for a list of quantities and a list of runs as follows:"
   ]
  },
  {
   "cell_type": "code",
   "execution_count": 4,
   "metadata": {},
   "outputs": [
    {
     "data": {
      "application/vnd.jupyter.widget-view+json": {
       "model_id": "510f7a7719f048f484d769bbd3039f2e",
       "version_major": 2,
       "version_minor": 0
      },
      "text/html": [
       "<p>Failed to display Jupyter Widget of type <code>HBox</code>.</p>\n",
       "<p>\n",
       "  If you're reading this message in the Jupyter Notebook or JupyterLab Notebook, it may mean\n",
       "  that the widgets JavaScript is still loading. If this message persists, it\n",
       "  likely means that the widgets JavaScript library is either not installed or\n",
       "  not enabled. See the <a href=\"https://ipywidgets.readthedocs.io/en/stable/user_install.html\">Jupyter\n",
       "  Widgets Documentation</a> for setup instructions.\n",
       "</p>\n",
       "<p>\n",
       "  If you're reading this message in another frontend (for example, a static\n",
       "  rendering on GitHub or <a href=\"https://nbviewer.jupyter.org/\">NBViewer</a>),\n",
       "  it may mean that your frontend doesn't currently support widgets.\n",
       "</p>\n"
      ],
      "text/plain": [
       "HBox(children=(IntProgress(value=0, max=10), HTML(value='')))"
      ]
     },
     "metadata": {},
     "output_type": "display_data"
    },
    {
     "name": "stdout",
     "output_type": "stream",
     "text": [
      "\r"
     ]
    },
    {
     "data": {
      "text/html": [
       "<div>\n",
       "<style scoped>\n",
       "    .dataframe tbody tr th:only-of-type {\n",
       "        vertical-align: middle;\n",
       "    }\n",
       "\n",
       "    .dataframe tbody tr th {\n",
       "        vertical-align: top;\n",
       "    }\n",
       "\n",
       "    .dataframe thead th {\n",
       "        text-align: right;\n",
       "    }\n",
       "</style>\n",
       "<table border=\"1\" class=\"dataframe\">\n",
       "  <thead>\n",
       "    <tr style=\"text-align: right;\">\n",
       "      <th></th>\n",
       "      <th>$\\mathrm{log} \\mathcal{Z}$</th>\n",
       "      <th>$\\overline{\\theta_{\\hat{1}}}$</th>\n",
       "      <th>$\\overline{\\theta^2_{\\hat{1}}}$</th>\n",
       "      <th>$\\overline{|\\theta|}$</th>\n",
       "    </tr>\n",
       "    <tr>\n",
       "      <th>run</th>\n",
       "      <th></th>\n",
       "      <th></th>\n",
       "      <th></th>\n",
       "      <th></th>\n",
       "    </tr>\n",
       "  </thead>\n",
       "  <tbody>\n",
       "    <tr>\n",
       "      <th>0</th>\n",
       "      <td>-5.934184</td>\n",
       "      <td>-0.000376</td>\n",
       "      <td>0.242457</td>\n",
       "      <td>0.625360</td>\n",
       "    </tr>\n",
       "    <tr>\n",
       "      <th>1</th>\n",
       "      <td>-5.941676</td>\n",
       "      <td>0.003250</td>\n",
       "      <td>0.238832</td>\n",
       "      <td>0.594131</td>\n",
       "    </tr>\n",
       "    <tr>\n",
       "      <th>2</th>\n",
       "      <td>-5.997774</td>\n",
       "      <td>-0.017127</td>\n",
       "      <td>0.263610</td>\n",
       "      <td>0.629681</td>\n",
       "    </tr>\n",
       "    <tr>\n",
       "      <th>3</th>\n",
       "      <td>-5.848036</td>\n",
       "      <td>-0.026617</td>\n",
       "      <td>0.279740</td>\n",
       "      <td>0.654915</td>\n",
       "    </tr>\n",
       "    <tr>\n",
       "      <th>4</th>\n",
       "      <td>-5.761255</td>\n",
       "      <td>-0.004223</td>\n",
       "      <td>0.230528</td>\n",
       "      <td>0.608089</td>\n",
       "    </tr>\n",
       "    <tr>\n",
       "      <th>5</th>\n",
       "      <td>-5.874927</td>\n",
       "      <td>-0.012669</td>\n",
       "      <td>0.224504</td>\n",
       "      <td>0.598055</td>\n",
       "    </tr>\n",
       "    <tr>\n",
       "      <th>6</th>\n",
       "      <td>-5.784370</td>\n",
       "      <td>0.011934</td>\n",
       "      <td>0.249281</td>\n",
       "      <td>0.599508</td>\n",
       "    </tr>\n",
       "    <tr>\n",
       "      <th>7</th>\n",
       "      <td>-5.880606</td>\n",
       "      <td>0.019924</td>\n",
       "      <td>0.253596</td>\n",
       "      <td>0.616933</td>\n",
       "    </tr>\n",
       "    <tr>\n",
       "      <th>8</th>\n",
       "      <td>-6.297974</td>\n",
       "      <td>0.031247</td>\n",
       "      <td>0.264749</td>\n",
       "      <td>0.663862</td>\n",
       "    </tr>\n",
       "    <tr>\n",
       "      <th>9</th>\n",
       "      <td>-5.863086</td>\n",
       "      <td>-0.031087</td>\n",
       "      <td>0.257504</td>\n",
       "      <td>0.648641</td>\n",
       "    </tr>\n",
       "  </tbody>\n",
       "</table>\n",
       "</div>"
      ],
      "text/plain": [
       "     $\\mathrm{log} \\mathcal{Z}$  $\\overline{\\theta_{\\hat{1}}}$  \\\n",
       "run                                                              \n",
       "0                     -5.934184                      -0.000376   \n",
       "1                     -5.941676                       0.003250   \n",
       "2                     -5.997774                      -0.017127   \n",
       "3                     -5.848036                      -0.026617   \n",
       "4                     -5.761255                      -0.004223   \n",
       "5                     -5.874927                      -0.012669   \n",
       "6                     -5.784370                       0.011934   \n",
       "7                     -5.880606                       0.019924   \n",
       "8                     -6.297974                       0.031247   \n",
       "9                     -5.863086                      -0.031087   \n",
       "\n",
       "     $\\overline{\\theta^2_{\\hat{1}}}$  $\\overline{|\\theta|}$  \n",
       "run                                                          \n",
       "0                           0.242457               0.625360  \n",
       "1                           0.238832               0.594131  \n",
       "2                           0.263610               0.629681  \n",
       "3                           0.279740               0.654915  \n",
       "4                           0.230528               0.608089  \n",
       "5                           0.224504               0.598055  \n",
       "6                           0.249281               0.599508  \n",
       "7                           0.253596               0.616933  \n",
       "8                           0.264749               0.663862  \n",
       "9                           0.257504               0.648641  "
      ]
     },
     "execution_count": 4,
     "metadata": {},
     "output_type": "execute_result"
    }
   ],
   "source": [
    "import nestcheck.diagnostics_tables\n",
    "\n",
    "estimator_list = [e.logz, e.param_mean, e.param_squared_mean, e.r_mean]\n",
    "# Use nestcheck's stored LaTeX format estimator names\n",
    "estimator_names = [e.get_latex_name(est) for est in estimator_list]\n",
    "vals_df = nestcheck.diagnostics_tables.estimator_values_df(\n",
    "    run_list, estimator_list, estimator_names=estimator_names)\n",
    "vals_df"
   ]
  },
  {
   "cell_type": "markdown",
   "metadata": {},
   "source": [
    "## Bootstrap sampling error estimates\n",
    "\n",
    "The sampling error on calculations from nested sampling runs can be estimated using the bootstrap approach method introduced in [Higson et al. 2017](https://doi.org/10.1214/17-BA1075) Section 4 (see the paper for more details)."
   ]
  },
  {
   "cell_type": "code",
   "execution_count": 5,
   "metadata": {},
   "outputs": [
    {
     "name": "stdout",
     "output_type": "stream",
     "text": [
      "Run boostrap error estimates:\n"
     ]
    },
    {
     "data": {
      "text/html": [
       "<div>\n",
       "<style scoped>\n",
       "    .dataframe tbody tr th:only-of-type {\n",
       "        vertical-align: middle;\n",
       "    }\n",
       "\n",
       "    .dataframe tbody tr th {\n",
       "        vertical-align: top;\n",
       "    }\n",
       "\n",
       "    .dataframe thead th {\n",
       "        text-align: right;\n",
       "    }\n",
       "</style>\n",
       "<table border=\"1\" class=\"dataframe\">\n",
       "  <thead>\n",
       "    <tr style=\"text-align: right;\">\n",
       "      <th></th>\n",
       "      <th>$\\mathrm{log} \\mathcal{Z}$</th>\n",
       "      <th>$\\overline{\\theta_{\\hat{1}}}$</th>\n",
       "      <th>$\\overline{\\theta^2_{\\hat{1}}}$</th>\n",
       "      <th>$\\overline{|\\theta|}$</th>\n",
       "    </tr>\n",
       "    <tr>\n",
       "      <th>run</th>\n",
       "      <th></th>\n",
       "      <th></th>\n",
       "      <th></th>\n",
       "      <th></th>\n",
       "    </tr>\n",
       "  </thead>\n",
       "  <tbody>\n",
       "    <tr>\n",
       "      <th>0</th>\n",
       "      <td>0.193681</td>\n",
       "      <td>0.026585</td>\n",
       "      <td>0.016430</td>\n",
       "      <td>0.022041</td>\n",
       "    </tr>\n",
       "    <tr>\n",
       "      <th>1</th>\n",
       "      <td>0.214706</td>\n",
       "      <td>0.025536</td>\n",
       "      <td>0.019318</td>\n",
       "      <td>0.020765</td>\n",
       "    </tr>\n",
       "  </tbody>\n",
       "</table>\n",
       "</div>"
      ],
      "text/plain": [
       "     $\\mathrm{log} \\mathcal{Z}$  $\\overline{\\theta_{\\hat{1}}}$  \\\n",
       "run                                                              \n",
       "0                      0.193681                       0.026585   \n",
       "1                      0.214706                       0.025536   \n",
       "\n",
       "     $\\overline{\\theta^2_{\\hat{1}}}$  $\\overline{|\\theta|}$  \n",
       "run                                                          \n",
       "0                           0.016430               0.022041  \n",
       "1                           0.019318               0.020765  "
      ]
     },
     "execution_count": 5,
     "metadata": {},
     "output_type": "execute_result"
    }
   ],
   "source": [
    "import pandas as pd\n",
    "import nestcheck.error_analysis\n",
    "\n",
    "bs_error_df = pd.DataFrame(columns=estimator_names)\n",
    "for i, run in enumerate(run_list[:2]):  # just use the first two runs as an example\n",
    "    bs_error_df.loc[i] = nestcheck.error_analysis.run_std_bootstrap(run, estimator_list, n_simulate=100)\n",
    "bs_error_df.index.name = 'run'\n",
    "print('Run boostrap error estimates:')\n",
    "bs_error_df"
   ]
  },
  {
   "cell_type": "markdown",
   "metadata": {},
   "source": [
    "## Diagrams of uncertainties on posterior distributions using bootstrap resamples\n",
    "\n",
    "Bootstrap resamples of nested sampling runs can be used to plot numerical uncertainties on whole posterior distributions (rather than just scalar quantities) using `nestcheck`'s  `bs_param_dists` function."
   ]
  },
  {
   "cell_type": "code",
   "execution_count": 6,
   "metadata": {},
   "outputs": [
    {
     "data": {
      "image/png": "[encoded data removed]",
      "text/plain": [
       "<Figure size 460.8x144 with 4 Axes>"
      ]
     },
     "metadata": {},
     "output_type": "display_data"
    }
   ],
   "source": [
    "import nestcheck.plots\n",
    "%matplotlib inline\n",
    "\n",
    "fig = nestcheck.plots.bs_param_dists(run_list[:2])"
   ]
  },
  {
   "cell_type": "markdown",
   "metadata": {},
   "source": [
    "Here the dashed dark red and dark blue lines mark the estimates of the mean of each parameter for the red and blue runs respectively. For a detailed explanation of this type of diagram and its uses, see ([Higson et al. 2018](https://arxiv.org/abs/1804.06406) Section 4.1 and Figure 3)."
   ]
  },
  {
   "cell_type": "markdown",
   "metadata": {},
   "source": [
    "## Diagrams of samples in log X\n",
    "\n",
    "The `param_logx_diagram` function plots nested sampling diagrams of the type proposed in ([Higson et al. 2018](https://arxiv.org/abs/1804.06406) Section 4.2 and shown in Figures 4 and 5)."
   ]
  },
  {
   "cell_type": "code",
   "execution_count": 7,
   "metadata": {},
   "outputs": [
    {
     "data": {
      "image/png": "[encoded data removed]",
      "text/plain": [
       "<Figure size 460.8x432 with 7 Axes>"
      ]
     },
     "metadata": {},
     "output_type": "display_data"
    }
   ],
   "source": [
    "fig = nestcheck.plots.param_logx_diagram(run_list[0], logx_min=-15)"
   ]
  },
  {
   "cell_type": "markdown",
   "metadata": {},
   "source": [
    "\n",
    "These diagrams illustrate the nested sampling algortithm's exponential compression of the prior by plotting samples in $\\log X$, where $X(\\mathcal{L}) \\in [0, 1]$ is the fraction of the prior with likelihood greater than $\\mathcal{L}$. The algorithm iterates towards higher likelihoods (towards lower $\\log X$ values). The plots on the left are similar the distributions plotted in the previous cell, and the top right plot shows the relative posterior mass at each $\\log X$ value. See [Higson et al. 2018](https://arxiv.org/abs/1804.06406) Section 4.2 for a detailed explanation and more examples."
   ]
  },
  {
   "cell_type": "markdown",
   "metadata": {},
   "source": [
    "## Calculating errors due to implementation-specific effects\n",
    "\n",
    "Nested sampling software used for practical problems, such as MultiNest and PolyChord, uses numerical techniques to produce approximately uncorrelated samples within some iso-likelihood contour. However, for challenging problems - such as those with multimodal or degenerate posteriors - the software may fail to do this accurately, causing additional errors due to *implementation-specific effects* (see [Higson et al. 2018](https://arxiv.org/abs/1804.06406) for more details).\n",
    "\n",
    "The error due to implementation-specific effects can be estimated with `nestcheck` using the method described in Section 5 of [Higson et al. 2018](https://arxiv.org/abs/1804.06406):"
   ]
  },
  {
   "cell_type": "code",
   "execution_count": 8,
   "metadata": {},
   "outputs": [
    {
     "data": {
      "application/vnd.jupyter.widget-view+json": {
       "model_id": "41677f5f4e4a44ca9a7a7dde560e1b4d",
       "version_major": 2,
       "version_minor": 0
      },
      "text/html": [
       "<p>Failed to display Jupyter Widget of type <code>HBox</code>.</p>\n",
       "<p>\n",
       "  If you're reading this message in the Jupyter Notebook or JupyterLab Notebook, it may mean\n",
       "  that the widgets JavaScript is still loading. If this message persists, it\n",
       "  likely means that the widgets JavaScript library is either not installed or\n",
       "  not enabled. See the <a href=\"https://ipywidgets.readthedocs.io/en/stable/user_install.html\">Jupyter\n",
       "  Widgets Documentation</a> for setup instructions.\n",
       "</p>\n",
       "<p>\n",
       "  If you're reading this message in another frontend (for example, a static\n",
       "  rendering on GitHub or <a href=\"https://nbviewer.jupyter.org/\">NBViewer</a>),\n",
       "  it may mean that your frontend doesn't currently support widgets.\n",
       "</p>\n"
      ],
      "text/plain": [
       "HBox(children=(IntProgress(value=0, max=10), HTML(value='')))"
      ]
     },
     "metadata": {},
     "output_type": "display_data"
    },
    {
     "name": "stdout",
     "output_type": "stream",
     "text": [
      "\r"
     ]
    },
    {
     "data": {
      "application/vnd.jupyter.widget-view+json": {
       "model_id": "6d6b5239ad96480e82d4b209ab678bec",
       "version_major": 2,
       "version_minor": 0
      },
      "text/html": [
       "<p>Failed to display Jupyter Widget of type <code>HBox</code>.</p>\n",
       "<p>\n",
       "  If you're reading this message in the Jupyter Notebook or JupyterLab Notebook, it may mean\n",
       "  that the widgets JavaScript is still loading. If this message persists, it\n",
       "  likely means that the widgets JavaScript library is either not installed or\n",
       "  not enabled. See the <a href=\"https://ipywidgets.readthedocs.io/en/stable/user_install.html\">Jupyter\n",
       "  Widgets Documentation</a> for setup instructions.\n",
       "</p>\n",
       "<p>\n",
       "  If you're reading this message in another frontend (for example, a static\n",
       "  rendering on GitHub or <a href=\"https://nbviewer.jupyter.org/\">NBViewer</a>),\n",
       "  it may mean that your frontend doesn't currently support widgets.\n",
       "</p>\n"
      ],
      "text/plain": [
       "HBox(children=(IntProgress(value=0, description='bs values', max=10), HTML(value='')))"
      ]
     },
     "metadata": {},
     "output_type": "display_data"
    },
    {
     "name": "stdout",
     "output_type": "stream",
     "text": [
      "\r"
     ]
    },
    {
     "data": {
      "text/html": [
       "<div>\n",
       "<style scoped>\n",
       "    .dataframe tbody tr th:only-of-type {\n",
       "        vertical-align: middle;\n",
       "    }\n",
       "\n",
       "    .dataframe tbody tr th {\n",
       "        vertical-align: top;\n",
       "    }\n",
       "\n",
       "    .dataframe thead th {\n",
       "        text-align: right;\n",
       "    }\n",
       "</style>\n",
       "<table border=\"1\" class=\"dataframe\">\n",
       "  <thead>\n",
       "    <tr style=\"text-align: right;\">\n",
       "      <th></th>\n",
       "      <th></th>\n",
       "      <th>$\\mathrm{log} \\mathcal{Z}$</th>\n",
       "      <th>$\\overline{\\theta_{\\hat{1}}}$</th>\n",
       "      <th>$\\overline{\\theta^2_{\\hat{1}}}$</th>\n",
       "      <th>$\\overline{|\\theta|}$</th>\n",
       "    </tr>\n",
       "    <tr>\n",
       "      <th>calculation type</th>\n",
       "      <th>result type</th>\n",
       "      <th></th>\n",
       "      <th></th>\n",
       "      <th></th>\n",
       "      <th></th>\n",
       "    </tr>\n",
       "  </thead>\n",
       "  <tbody>\n",
       "    <tr>\n",
       "      <th rowspan=\"2\" valign=\"top\">values mean</th>\n",
       "      <th>value</th>\n",
       "      <td>-5.918389</td>\n",
       "      <td>-0.002574</td>\n",
       "      <td>0.250480</td>\n",
       "      <td>0.623917</td>\n",
       "    </tr>\n",
       "    <tr>\n",
       "      <th>uncertainty</th>\n",
       "      <td>0.047744</td>\n",
       "      <td>0.006330</td>\n",
       "      <td>0.005339</td>\n",
       "      <td>0.007926</td>\n",
       "    </tr>\n",
       "    <tr>\n",
       "      <th rowspan=\"2\" valign=\"top\">values std</th>\n",
       "      <th>value</th>\n",
       "      <td>0.150980</td>\n",
       "      <td>0.020019</td>\n",
       "      <td>0.016884</td>\n",
       "      <td>0.025065</td>\n",
       "    </tr>\n",
       "    <tr>\n",
       "      <th>uncertainty</th>\n",
       "      <td>0.035586</td>\n",
       "      <td>0.004718</td>\n",
       "      <td>0.003980</td>\n",
       "      <td>0.005908</td>\n",
       "    </tr>\n",
       "    <tr>\n",
       "      <th rowspan=\"2\" valign=\"top\">bootstrap std mean</th>\n",
       "      <th>value</th>\n",
       "      <td>0.217638</td>\n",
       "      <td>0.026168</td>\n",
       "      <td>0.018131</td>\n",
       "      <td>0.022129</td>\n",
       "    </tr>\n",
       "    <tr>\n",
       "      <th>uncertainty</th>\n",
       "      <td>0.010354</td>\n",
       "      <td>0.000704</td>\n",
       "      <td>0.000481</td>\n",
       "      <td>0.000441</td>\n",
       "    </tr>\n",
       "    <tr>\n",
       "      <th rowspan=\"2\" valign=\"top\">implementation std</th>\n",
       "      <th>value</th>\n",
       "      <td>0.000000</td>\n",
       "      <td>0.000000</td>\n",
       "      <td>0.000000</td>\n",
       "      <td>0.011771</td>\n",
       "    </tr>\n",
       "    <tr>\n",
       "      <th>uncertainty</th>\n",
       "      <td>0.055952</td>\n",
       "      <td>0.009373</td>\n",
       "      <td>0.010334</td>\n",
       "      <td>0.014222</td>\n",
       "    </tr>\n",
       "    <tr>\n",
       "      <th rowspan=\"2\" valign=\"top\">implementation std frac</th>\n",
       "      <th>value</th>\n",
       "      <td>0.000000</td>\n",
       "      <td>0.000000</td>\n",
       "      <td>0.000000</td>\n",
       "      <td>0.469616</td>\n",
       "    </tr>\n",
       "    <tr>\n",
       "      <th>uncertainty</th>\n",
       "      <td>6.940037</td>\n",
       "      <td>2.363760</td>\n",
       "      <td>1.141478</td>\n",
       "      <td>1.763814</td>\n",
       "    </tr>\n",
       "  </tbody>\n",
       "</table>\n",
       "</div>"
      ],
      "text/plain": [
       "                                     $\\mathrm{log} \\mathcal{Z}$  \\\n",
       "calculation type        result type                               \n",
       "values mean             value                         -5.918389   \n",
       "                        uncertainty                    0.047744   \n",
       "values std              value                          0.150980   \n",
       "                        uncertainty                    0.035586   \n",
       "bootstrap std mean      value                          0.217638   \n",
       "                        uncertainty                    0.010354   \n",
       "implementation std      value                          0.000000   \n",
       "                        uncertainty                    0.055952   \n",
       "implementation std frac value                          0.000000   \n",
       "                        uncertainty                    6.940037   \n",
       "\n",
       "                                     $\\overline{\\theta_{\\hat{1}}}$  \\\n",
       "calculation type        result type                                  \n",
       "values mean             value                            -0.002574   \n",
       "                        uncertainty                       0.006330   \n",
       "values std              value                             0.020019   \n",
       "                        uncertainty                       0.004718   \n",
       "bootstrap std mean      value                             0.026168   \n",
       "                        uncertainty                       0.000704   \n",
       "implementation std      value                             0.000000   \n",
       "                        uncertainty                       0.009373   \n",
       "implementation std frac value                             0.000000   \n",
       "                        uncertainty                       2.363760   \n",
       "\n",
       "                                     $\\overline{\\theta^2_{\\hat{1}}}$  \\\n",
       "calculation type        result type                                    \n",
       "values mean             value                               0.250480   \n",
       "                        uncertainty                         0.005339   \n",
       "values std              value                               0.016884   \n",
       "                        uncertainty                         0.003980   \n",
       "bootstrap std mean      value                               0.018131   \n",
       "                        uncertainty                         0.000481   \n",
       "implementation std      value                               0.000000   \n",
       "                        uncertainty                         0.010334   \n",
       "implementation std frac value                               0.000000   \n",
       "                        uncertainty                         1.141478   \n",
       "\n",
       "                                     $\\overline{|\\theta|}$  \n",
       "calculation type        result type                         \n",
       "values mean             value                     0.623917  \n",
       "                        uncertainty               0.007926  \n",
       "values std              value                     0.025065  \n",
       "                        uncertainty               0.005908  \n",
       "bootstrap std mean      value                     0.022129  \n",
       "                        uncertainty               0.000441  \n",
       "implementation std      value                     0.011771  \n",
       "                        uncertainty               0.014222  \n",
       "implementation std frac value                     0.469616  \n",
       "                        uncertainty               1.763814  "
      ]
     },
     "execution_count": 8,
     "metadata": {},
     "output_type": "execute_result"
    }
   ],
   "source": [
    "df = nestcheck.diagnostics_tables.run_list_error_summary(run_list, estimator_list, estimator_names, 100)\n",
    "df"
   ]
  },
  {
   "cell_type": "markdown",
   "metadata": {},
   "source": [
    "The 2-dimensional Gaussian likelihood is unimodal and easy for PolyChord to sample, so as expected we see that the standard deviation of the result values is close to the mean bootstrap standard deviation. Consequently the estimated errors due to implementation-specific effects are low."
   ]
  },
  {
   "cell_type": "markdown",
   "metadata": {},
   "source": [
    "## Tests for implementation specific effects using only 2 nested sampling runs\n",
    "\n",
    "It is impossible to tell *a priori* if implementation-specific effects are present in a single nested sampling run without some additional knowledge of what the results should be. However diagnostic tests to determine if significant implementation-specific effects are present using only two nested sampling runs are proposed in [Higson et al. 2018](https://arxiv.org/abs/1804.06406).\n",
    "\n",
    "1. The first test divides nested sampling runs into their constituent single live point runs (\"threads\") and assesses whether threads within each run are correlated with each other using the [Kolmogorov–Smirnov test](https://en.wikipedia.org/wiki/Kolmogorov-Smirnov_test). This yields a $p$-value, with $p \\approx 0$ indicating implementation-specific effects are almost certainly present.\n",
    "2. Secondly, the statistical distance between the uncertainty distributions (calculated from bootstrap replications) of quantities such as $\\log X$ or parameter means for the two runs can be calculated. We use the Kolmogorov–Smirnov statistic as a distance measure; if this is close to 1 then there little or is no overlap between the distributions and additional errors from implementation-specific effects are likely present.\n",
    "\n",
    "For a full explanation see the diagnostic tests paper ([Higson et al. 2018](https://arxiv.org/abs/1804.06406)).\n",
    "\n",
    "These statistcs can be computed for pairs of runs using `nestcheck` as:"
   ]
  },
  {
   "cell_type": "code",
   "execution_count": 9,
   "metadata": {},
   "outputs": [
    {
     "data": {
      "application/vnd.jupyter.widget-view+json": {
       "model_id": "22ca75e4f7b2487293571c2bbdcc76af",
       "version_major": 2,
       "version_minor": 0
      },
      "text/html": [
       "<p>Failed to display Jupyter Widget of type <code>HBox</code>.</p>\n",
       "<p>\n",
       "  If you're reading this message in the Jupyter Notebook or JupyterLab Notebook, it may mean\n",
       "  that the widgets JavaScript is still loading. If this message persists, it\n",
       "  likely means that the widgets JavaScript library is either not installed or\n",
       "  not enabled. See the <a href=\"https://ipywidgets.readthedocs.io/en/stable/user_install.html\">Jupyter\n",
       "  Widgets Documentation</a> for setup instructions.\n",
       "</p>\n",
       "<p>\n",
       "  If you're reading this message in another frontend (for example, a static\n",
       "  rendering on GitHub or <a href=\"https://nbviewer.jupyter.org/\">NBViewer</a>),\n",
       "  it may mean that your frontend doesn't currently support widgets.\n",
       "</p>\n"
      ],
      "text/plain": [
       "HBox(children=(IntProgress(value=0, max=2), HTML(value='')))"
      ]
     },
     "metadata": {},
     "output_type": "display_data"
    },
    {
     "name": "stdout",
     "output_type": "stream",
     "text": [
      "\r"
     ]
    },
    {
     "data": {
      "application/vnd.jupyter.widget-view+json": {
       "model_id": "4ff749d5a2214bdd915ae8134304a14f",
       "version_major": 2,
       "version_minor": 0
      },
      "text/html": [
       "<p>Failed to display Jupyter Widget of type <code>HBox</code>.</p>\n",
       "<p>\n",
       "  If you're reading this message in the Jupyter Notebook or JupyterLab Notebook, it may mean\n",
       "  that the widgets JavaScript is still loading. If this message persists, it\n",
       "  likely means that the widgets JavaScript library is either not installed or\n",
       "  not enabled. See the <a href=\"https://ipywidgets.readthedocs.io/en/stable/user_install.html\">Jupyter\n",
       "  Widgets Documentation</a> for setup instructions.\n",
       "</p>\n",
       "<p>\n",
       "  If you're reading this message in another frontend (for example, a static\n",
       "  rendering on GitHub or <a href=\"https://nbviewer.jupyter.org/\">NBViewer</a>),\n",
       "  it may mean that your frontend doesn't currently support widgets.\n",
       "</p>\n"
      ],
      "text/plain": [
       "HBox(children=(IntProgress(value=0, description='bs values', max=2), HTML(value='')))"
      ]
     },
     "metadata": {},
     "output_type": "display_data"
    },
    {
     "name": "stdout",
     "output_type": "stream",
     "text": [
      "\r"
     ]
    },
    {
     "data": {
      "application/vnd.jupyter.widget-view+json": {
       "model_id": "5b37494f90ee476ea54b4e4610ab641f",
       "version_major": 2,
       "version_minor": 0
      },
      "text/html": [
       "<p>Failed to display Jupyter Widget of type <code>HBox</code>.</p>\n",
       "<p>\n",
       "  If you're reading this message in the Jupyter Notebook or JupyterLab Notebook, it may mean\n",
       "  that the widgets JavaScript is still loading. If this message persists, it\n",
       "  likely means that the widgets JavaScript library is either not installed or\n",
       "  not enabled. See the <a href=\"https://ipywidgets.readthedocs.io/en/stable/user_install.html\">Jupyter\n",
       "  Widgets Documentation</a> for setup instructions.\n",
       "</p>\n",
       "<p>\n",
       "  If you're reading this message in another frontend (for example, a static\n",
       "  rendering on GitHub or <a href=\"https://nbviewer.jupyter.org/\">NBViewer</a>),\n",
       "  it may mean that your frontend doesn't currently support widgets.\n",
       "</p>\n"
      ],
      "text/plain": [
       "HBox(children=(IntProgress(value=0, description='thread values', max=2), HTML(value='')))"
      ]
     },
     "metadata": {},
     "output_type": "display_data"
    },
    {
     "name": "stdout",
     "output_type": "stream",
     "text": [
      "\r"
     ]
    },
    {
     "data": {
      "text/html": [
       "<div>\n",
       "<style scoped>\n",
       "    .dataframe tbody tr th:only-of-type {\n",
       "        vertical-align: middle;\n",
       "    }\n",
       "\n",
       "    .dataframe tbody tr th {\n",
       "        vertical-align: top;\n",
       "    }\n",
       "\n",
       "    .dataframe thead th {\n",
       "        text-align: right;\n",
       "    }\n",
       "</style>\n",
       "<table border=\"1\" class=\"dataframe\">\n",
       "  <thead>\n",
       "    <tr style=\"text-align: right;\">\n",
       "      <th></th>\n",
       "      <th></th>\n",
       "      <th>$\\mathrm{log} \\mathcal{Z}$</th>\n",
       "      <th>$\\overline{\\theta_{\\hat{1}}}$</th>\n",
       "      <th>$\\overline{\\theta^2_{\\hat{1}}}$</th>\n",
       "      <th>$\\overline{|\\theta|}$</th>\n",
       "    </tr>\n",
       "    <tr>\n",
       "      <th>calculation type</th>\n",
       "      <th>run</th>\n",
       "      <th></th>\n",
       "      <th></th>\n",
       "      <th></th>\n",
       "      <th></th>\n",
       "    </tr>\n",
       "  </thead>\n",
       "  <tbody>\n",
       "    <tr>\n",
       "      <th>thread ks pvalue</th>\n",
       "      <th>(1, 0)</th>\n",
       "      <td>0.343886</td>\n",
       "      <td>0.556017</td>\n",
       "      <td>0.67662</td>\n",
       "      <td>0.260553</td>\n",
       "    </tr>\n",
       "    <tr>\n",
       "      <th>bootstrap ks distance</th>\n",
       "      <th>(1, 0)</th>\n",
       "      <td>0.190000</td>\n",
       "      <td>0.290000</td>\n",
       "      <td>0.58000</td>\n",
       "      <td>0.570000</td>\n",
       "    </tr>\n",
       "  </tbody>\n",
       "</table>\n",
       "</div>"
      ],
      "text/plain": [
       "                              $\\mathrm{log} \\mathcal{Z}$  \\\n",
       "calculation type      run                                  \n",
       "thread ks pvalue      (1, 0)                    0.343886   \n",
       "bootstrap ks distance (1, 0)                    0.190000   \n",
       "\n",
       "                              $\\overline{\\theta_{\\hat{1}}}$  \\\n",
       "calculation type      run                                     \n",
       "thread ks pvalue      (1, 0)                       0.556017   \n",
       "bootstrap ks distance (1, 0)                       0.290000   \n",
       "\n",
       "                              $\\overline{\\theta^2_{\\hat{1}}}$  \\\n",
       "calculation type      run                                       \n",
       "thread ks pvalue      (1, 0)                          0.67662   \n",
       "bootstrap ks distance (1, 0)                          0.58000   \n",
       "\n",
       "                              $\\overline{|\\theta|}$  \n",
       "calculation type      run                            \n",
       "thread ks pvalue      (1, 0)               0.260553  \n",
       "bootstrap ks distance (1, 0)               0.570000  "
      ]
     },
     "execution_count": 9,
     "metadata": {},
     "output_type": "execute_result"
    }
   ],
   "source": [
    "# perform error analysis on two runs\n",
    "error_vals_df = nestcheck.diagnostics_tables.run_list_error_values(\n",
    "    run_list[:2], estimator_list, estimator_names, thread_pvalue=True, bs_stat_dist=True, n_simulate=100)\n",
    "# select only rows containing pairwise tests to output\n",
    "error_vals_df.loc[pd.IndexSlice[['thread ks pvalue', 'bootstrap ks distance'], :], :]"
   ]
  },
  {
   "cell_type": "markdown",
   "metadata": {},
   "source": [
    "As expected, the $p$-values are not particularly low nor are the KS distances particularly high - indicating there are significant implementation-specific effects for the simple 2-dimensional Gaussian.\n",
    "\n",
    "If more than two runs are provided, the above function will calculate the diagnostics for each pairwise combination."
   ]
  }
 ],
 "metadata": {
  "kernelspec": {
   "display_name": "Python 3",
   "language": "python",
   "name": "python3"
  },
  "language_info": {
   "codemirror_mode": {
    "name": "ipython",
    "version": 3
   },
   "file_extension": ".py",
   "mimetype": "text/x-python",
   "name": "python",
   "nbconvert_exporter": "python",
   "pygments_lexer": "ipython3",
   "version": "3.6.3"
  }
 },
 "nbformat": 4,
 "nbformat_minor": 2
}
