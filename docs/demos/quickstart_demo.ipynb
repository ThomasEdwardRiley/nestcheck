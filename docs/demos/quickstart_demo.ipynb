{
 "cells": [
  {
   "cell_type": "markdown",
   "metadata": {},
   "source": [
    "# Quickstart demo\n",
    "\n",
    "This is a brief demonstratation of loading nested sampling run data, performing evidence and parameter estimations, and running error analysis diagnostic tests. The diagnostic tests and plots described in:\n",
    "\n",
    "- \"Diagnostic Tests for Nested Sampling Calculations\" ([Higson et al. 2018](https://arxiv.org/abs/url_tbc));\n",
    "- \"Sampling Errors in Nested Sampling Parameter Estimation\" ([Higson et al. 2017](https://doi.org/10.1214/17-BA1075)).\n",
    "\n",
    "For detailed explanations of the diagnostic tests and plots see the papers. For more details about the code and the other options, see the [documentation](http://nestcheck.readthedocs.io). The code to make all the results and diagrams in the diagnostic tests paper ([Higson et al. 2018](https://arxiv.org/abs/url_tbc)) is available in the [`diagnostics_paper_code.ipynb`](https://github.com/ejhigson/nestcheck/blob/master/examples/diagnostics_paper_code.ipynb) notebook and provides more examples."
   ]
  },
  {
   "cell_type": "markdown",
   "metadata": {},
   "source": [
    "## Loading nested sampling runs\n",
    "\n",
    "`nestcheck` currently has functions for loading nested sampling data from [MultiNest](https://ccpforge.cse.rl.ac.uk/gf/project/multinest/) and [PolyChord](https://ccpforge.cse.rl.ac.uk/gf/project/polychord/), and you can add your own method to load data from other sources.\n",
    "\n",
    "\n",
    "The examples use nested sampling runs from [PolyChord](https://ccpforge.cse.rl.ac.uk/gf/project/polychord/) - you can download the data used from [https://github.com/ejhigson/nestcheck_demo_data](https://github.com/ejhigson/nestcheck_demo_data). This contains 40 runs, 10 each for the 2-dimensional Gaussian, Gaussian shell, Rosenbrock likelihoods used in the diagnostic tests paper (see [Higson et al. 2018](https://arxiv.org/abs/url_tbc) Section 3 for more detials). Each uses a uniform prior on each parameter in $[-10, 10]$.\n",
    "\n",
    "For example, a PolyChord run can be loaded as follows:"
   ]
  },
  {
   "cell_type": "code",
   "execution_count": null,
   "metadata": {},
   "outputs": [],
   "source": [
    "import nestcheck.data_processing\n",
    "\n",
    "base_dir = 'polychord_chains'  # directory containing run (PolyChord's 'base_dir' setting)\n",
    "file_root = 'gaussian_2d_100nlive_5nrepeats_1'  # directory containing run (PolyChord's 'base_dir' setting)\n",
    "run = nestcheck.data_processing.process_polychord_run(file_root, base_dir)\n",
    "run.keys()"
   ]
  },
  {
   "cell_type": "markdown",
   "metadata": {},
   "source": [
    "For more information about the dictionary format and keys `nestcheck` uses to store nested sampling runs, see the [API documentation](http://nestcheck.readthedocs.io/en/latest/api.html).\n",
    "\n",
    "Data from multiple runs can be loaded and processed together with optional parallelisation:"
   ]
  },
  {
   "cell_type": "code",
   "execution_count": null,
   "metadata": {},
   "outputs": [],
   "source": [
    "file_roots = ['gaussian_2d_100nlive_5nrepeats_' + str(i) for i in range(1, 11)]\n",
    "run_list = nestcheck.data_processing.batch_process_data(\n",
    "    file_roots, base_dir=base_dir, parallel=True,\n",
    "    process_func=nestcheck.data_processing.process_polychord_run)"
   ]
  },
  {
   "cell_type": "markdown",
   "metadata": {},
   "source": [
    "## Evidence and parameter estimation calculations from runs\n",
    "\n",
    "Posterior inferences can be easily made from nested sampling runs (see `estimators.py` for more example functions)"
   ]
  },
  {
   "cell_type": "code",
   "execution_count": null,
   "metadata": {},
   "outputs": [],
   "source": [
    "import nestcheck.estimators as e\n",
    "\n",
    "print('The log evidence estimate from the first run is',\n",
    "      e.logz(run_list[0]))\n",
    "print('The estimate of the mean of the first parameter from the first run is',\n",
    "      e.param_mean(run_list[0], param_ind=0))"
   ]
  },
  {
   "cell_type": "markdown",
   "metadata": {},
   "source": [
    "You can get a pandas data frame of estimates of a list of quantites for a list of runs as follows:"
   ]
  },
  {
   "cell_type": "code",
   "execution_count": null,
   "metadata": {},
   "outputs": [],
   "source": [
    "import nestcheck.diagnostics_tables\n",
    "\n",
    "estimator_list = [e.logz, e.param_mean, e.param_squared_mean, e.r_mean]\n",
    "estimator_names = [e.get_latex_name(est) for est in estimator_list]  # Use nestcheck's stored LaTeX format estimator names\n",
    "vals_df = nestcheck.diagnostics_tables.estimator_values_df(run_list, estimator_list, estimator_names=estimator_names)\n",
    "vals_df"
   ]
  },
  {
   "cell_type": "markdown",
   "metadata": {},
   "source": [
    "## Bootstrap sampling error estimates\n",
    "\n",
    "We can estimate the sampling error on nested sampling calculations using the bootstrap approach (see [Higson et al. 2017](https://doi.org/10.1214/17-BA1075) Section 4 for more details)."
   ]
  },
  {
   "cell_type": "code",
   "execution_count": null,
   "metadata": {},
   "outputs": [],
   "source": [
    "import pandas as pd\n",
    "import nestcheck.error_analysis\n",
    "\n",
    "bs_error_df = pd.DataFrame(columns=estimator_names)\n",
    "for i, run in enumerate(run_list):\n",
    "    bs_error_df.loc[i] = nestcheck.error_analysis.run_std_bootstrap(run, estimator_list, n_simulate=100)\n",
    "print('Run boostrap error estimates:')\n",
    "bs_error_df"
   ]
  },
  {
   "cell_type": "markdown",
   "metadata": {},
   "source": [
    "## Diagrams of uncertainties on posterior distributions using bootstrap resamples\n",
    "\n",
    "Bootstrap resamples of nested sampling runs can be used to plot numerical uncertainties on whole posterior distributions (rather than just scalare quantities) using `nestcheck`'s  `bs_param_dists` function. For a discussion of this type of diagram and its uses, see ([Higson et al. 2018](https://arxiv.org/abs/url_tbc) Section 4.1 and Figure 3)."
   ]
  },
  {
   "cell_type": "code",
   "execution_count": null,
   "metadata": {},
   "outputs": [],
   "source": [
    "import nestcheck.plots\n",
    "%matplotlib inline\n",
    "\n",
    "fig = nestcheck.plots.bs_param_dists(run_list[:2], tqdm_kwargs={'disable': True})"
   ]
  },
  {
   "cell_type": "markdown",
   "metadata": {},
   "source": [
    "## Diagrams of samples in log X\n",
    "\n",
    "The `param_logx_diagram` function plots diagrams of samples of the type proposed in ([Higson et al. 2018](https://arxiv.org/abs/url_tbc) Section 4.2)."
   ]
  },
  {
   "cell_type": "code",
   "execution_count": null,
   "metadata": {},
   "outputs": [],
   "source": [
    "fig = nestcheck.plots.param_logx_diagram(run_list[0], logx_min=-15, tqdm_kwargs={'disable': True})"
   ]
  },
  {
   "cell_type": "markdown",
   "metadata": {},
   "source": [
    "## Calculating errors due to implementation-specific effects\n",
    "\n",
    "The part of the variation in results which cannot be explained by the intrinsic stochasticity of the nested sampling algorithm and is due to the nesteded sampling software failing to produce uncorrelated sampling within iso-likelihood contours can be estimated using the method described in Section 5 of ([Higson et al. 2018](https://arxiv.org/abs/url_tbc))."
   ]
  },
  {
   "cell_type": "code",
   "execution_count": null,
   "metadata": {},
   "outputs": [],
   "source": [
    "df = nestcheck.diagnostics_tables.run_list_error_summary(run_list, estimator_list, estimator_names, 100)\n",
    "df"
   ]
  },
  {
   "cell_type": "markdown",
   "metadata": {},
   "source": [
    "The 2-dimensional Gaussian likelihood is unimodal and easy for PolyChord to sample, so as expected we see that the standard deviation of the result values is close to the mean bootstrap standard deviation. Consequently the estimated errors due to impelementation-specific effects are low."
   ]
  },
  {
   "cell_type": "markdown",
   "metadata": {},
   "source": [
    "## Tests for implementation specific effects using only 2 nested sampling runs\n",
    "\n",
    "The diagnostic tests for only two runs presented in Section 6 of ([Higson et al. 2018](https://arxiv.org/abs/url_tbc)) can also be easily calculated:"
   ]
  },
  {
   "cell_type": "code",
   "execution_count": null,
   "metadata": {},
   "outputs": [],
   "source": [
    "# perform error analysis on two runs\n",
    "error_vals_df = nestcheck.diagnostics_tables.run_list_error_values(\n",
    "    run_list[:2], estimator_list, estimator_names, thread_pvalue=True, bs_stat_dist=True, n_simulate=100)\n",
    "# select only rows containing pairwise tests to output\n",
    "error_vals_df.loc[pd.IndexSlice[['thread ks pvalue', 'bootstrap ks distance'], :], :]"
   ]
  },
  {
   "cell_type": "markdown",
   "metadata": {},
   "source": [
    "If more than two runs are provided, the diagnostics are calculated for each pairwise combination."
   ]
  }
 ],
 "metadata": {
  "kernelspec": {
   "display_name": "Python 3",
   "language": "python",
   "name": "python3"
  },
  "language_info": {
   "codemirror_mode": {
    "name": "ipython",
    "version": 3
   },
   "file_extension": ".py",
   "mimetype": "text/x-python",
   "name": "python",
   "nbconvert_exporter": "python",
   "pygments_lexer": "ipython3",
   "version": "3.6.3"
  }
 },
 "nbformat": 4,
 "nbformat_minor": 2
}
